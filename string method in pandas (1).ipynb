{
 "cells": [
  {
   "cell_type": "code",
   "execution_count": 45,
   "id": "8d5c6672-7352-4b2b-80ef-b5fc8d1b57b9",
   "metadata": {},
   "outputs": [
    {
     "name": "stdout",
     "output_type": "stream",
     "text": [
      "   Courses    Fee Duration Discount\n",
      "0    SPARK  22000   30days     1000\n",
      "1  PYSPARK  25000   50days     2300\n",
      "2   HADOOP  24000   40days     2500\n",
      "3   PANDAS  26000   60days     1400\n"
     ]
    }
   ],
   "source": [
    "\n",
    "import pandas as pd\n",
    "import numpy as np\n",
    "technologies= ({\n",
    "    'Courses':[\"SPARK\",\"PYSPARK\",\"HADOOP\",\"PANDAS\"],\n",
    "    'Fee' :['22000','25000','24000','26000'],\n",
    "    'Duration':['30days','50days','40days','60days'],\n",
    "    'Discount':['1000','2300','2500','1400']\n",
    "              })\n",
    "df = pd.DataFrame(technologies)\n",
    "print(df)\n"
   ]
  },
  {
   "cell_type": "code",
   "execution_count": 4,
   "id": "a9d9a941-47d5-4cc6-a3a3-6f0dcba4365f",
   "metadata": {},
   "outputs": [
    {
     "name": "stdout",
     "output_type": "stream",
     "text": [
      "   Courses    Fee Duration Discount\n",
      "0    spark  22000   30days     1000\n",
      "1  pyspark  25000   50days     2300\n",
      "2   hadoop  24000   40days     2500\n",
      "3   pandas  26000   60days     1400\n"
     ]
    }
   ],
   "source": [
    "#TO CONVERT TO LOWER CASE USING str.lower()\n",
    "df['Courses'] = df['Courses'].str.lower()\n",
    "print(df)"
   ]
  },
  {
   "cell_type": "code",
   "execution_count": 46,
   "id": "286737a0-931d-4f40-bb55-4f7cd4909311",
   "metadata": {},
   "outputs": [
    {
     "name": "stdout",
     "output_type": "stream",
     "text": [
      "   Courses    Fee Duration Discount\n",
      "0    spark  22000   30days     1000\n",
      "1  pyspark  25000   50days     2300\n",
      "2   hadoop  24000   40days     2500\n",
      "3   pandas  26000   60days     1400\n"
     ]
    }
   ],
   "source": [
    "#TO CONVERT TO LOWER CASE USING apply(str.lower)\n",
    "df['Courses'] = df['Courses'].apply(str.lower)\n",
    "print(df)"
   ]
  },
  {
   "cell_type": "code",
   "execution_count": 6,
   "id": "dc9875a5-4f52-4a38-a2d5-9ae5053fb88e",
   "metadata": {},
   "outputs": [
    {
     "name": "stdout",
     "output_type": "stream",
     "text": [
      "   Courses    Fee Duration Discount\n",
      "0    spark  22000   30days     1000\n",
      "1  pyspark  25000   50days     2300\n",
      "2   hadoop  24000   40days     2500\n",
      "3   pandas  26000   60days     1400\n"
     ]
    }
   ],
   "source": [
    "# Use apply() & lambda function\n",
    "df['Courses'].apply(lambda x: x.lower())\n",
    "print(df)"
   ]
  },
  {
   "cell_type": "code",
   "execution_count": 7,
   "id": "d9e100fe-6c6f-408a-a039-a6a91dc82f19",
   "metadata": {},
   "outputs": [
    {
     "name": "stdout",
     "output_type": "stream",
     "text": [
      "   Courses    Fee Duration Discount\n",
      "0    spark  22000   30days     1000\n",
      "1  pyspark  25000   50days     2300\n",
      "2   hadoop  24000   40days     2500\n",
      "3   pandas  26000   60days     1400\n"
     ]
    }
   ],
   "source": [
    "# Convert pandas column to lowercase use map()\n",
    "df['Courses'] = df['Courses'].map(str.lower)\n",
    "print(df)"
   ]
  },
  {
   "cell_type": "code",
   "execution_count": 8,
   "id": "c28fd69f-4144-48bd-b03c-6b294ebebe79",
   "metadata": {},
   "outputs": [
    {
     "name": "stdout",
     "output_type": "stream",
     "text": [
      "   Courses    Fee Duration Discount\n",
      "0    SPARK  22000   30days     1000\n",
      "1  PYSPARK  25000   50days     2300\n",
      "2   HADOOP  24000   40days     2500\n",
      "3   PANDAS  26000   60days     1400\n"
     ]
    }
   ],
   "source": [
    "#TO CONVERT TO LOWER CASE USING str.upper()\n",
    "df['Courses'] = df['Courses'].str.upper()\n",
    "print(df)"
   ]
  },
  {
   "cell_type": "code",
   "execution_count": 9,
   "id": "804e86a6-44c2-4ed9-87e0-acd65c812c33",
   "metadata": {},
   "outputs": [
    {
     "name": "stdout",
     "output_type": "stream",
     "text": [
      "   Courses    Fee Duration Discount\n",
      "0    SPARK  22000   30days     1000\n",
      "1  PYSPARK  25000   50days     2300\n",
      "2   HADOOP  24000   40days     2500\n",
      "3   PANDAS  26000   60days     1400\n"
     ]
    }
   ],
   "source": [
    "#TO CONVERT TO UPPER CASE USING apply(str.upper)\n",
    "df['Courses'] = df['Courses'].apply(str.upper)\n",
    "print(df)"
   ]
  },
  {
   "cell_type": "code",
   "execution_count": 11,
   "id": "7e134076-7774-4e12-ad48-e87cbabd7677",
   "metadata": {},
   "outputs": [
    {
     "name": "stdout",
     "output_type": "stream",
     "text": [
      "   Courses    Fee Duration Discount\n",
      "0    SPARK  22000   30days     1000\n",
      "1  PYSPARK  25000   50days     2300\n",
      "2   HADOOP  24000   40days     2500\n",
      "3   PANDAS  26000   60days     1400\n"
     ]
    }
   ],
   "source": [
    " #Use apply() & lambda function\n",
    "df['Courses'].apply(lambda x: x.upper())\n",
    "print(df)"
   ]
  },
  {
   "cell_type": "code",
   "execution_count": 12,
   "id": "fd1e58df-5cd9-48ef-b4c3-adf28cfc2099",
   "metadata": {},
   "outputs": [
    {
     "name": "stdout",
     "output_type": "stream",
     "text": [
      "   Courses    Fee Duration Discount\n",
      "0    SPARK  22000   30days     1000\n",
      "1  PYSPARK  25000   50days     2300\n",
      "2   HADOOP  24000   40days     2500\n",
      "3   PANDAS  26000   60days     1400\n"
     ]
    }
   ],
   "source": [
    "# Convert pandas column to uppercase use map()\n",
    "df['Courses'] = df['Courses'].map(str.upper)\n",
    "print(df)"
   ]
  },
  {
   "cell_type": "code",
   "execution_count": 48,
   "id": "ba445c58-008a-4a44-a320-4006b9ac5970",
   "metadata": {
    "scrolled": true
   },
   "outputs": [
    {
     "name": "stdout",
     "output_type": "stream",
     "text": [
      "4\n"
     ]
    }
   ],
   "source": [
    "tokens=(technologies)\n",
    "sequence_length=len(technologies)\n",
    "print(sequence_length)"
   ]
  },
  {
   "cell_type": "code",
   "execution_count": 18,
   "id": "ccad2096-bcbf-4dfc-a797-7692dec5e643",
   "metadata": {},
   "outputs": [],
   "source": [
    "import pandas as pd\n",
    "\n",
    "data = pd.DataFrame({\n",
    "\n",
    "    'age' : [15, 17, 20, 14, 25],\n",
    "\n",
    "    'name': [\"Sample\", \"New User\", \"My Name\", \"Jane Doe\", \"John Doe\"]\n",
    "\n",
    "})\n"
   ]
  },
  {
   "cell_type": "code",
   "execution_count": 47,
   "id": "c0b45b81-73be-4478-8bdb-5f234c80a40d",
   "metadata": {},
   "outputs": [
    {
     "ename": "KeyError",
     "evalue": "'name'",
     "output_type": "error",
     "traceback": [
      "\u001b[1;31m---------------------------------------------------------------------------\u001b[0m",
      "\u001b[1;31mKeyError\u001b[0m                                  Traceback (most recent call last)",
      "Cell \u001b[1;32mIn[47], line 1\u001b[0m\n\u001b[1;32m----> 1\u001b[0m \u001b[43mdata\u001b[49m\u001b[43m[\u001b[49m\u001b[38;5;124;43m'\u001b[39;49m\u001b[38;5;124;43mname\u001b[39;49m\u001b[38;5;124;43m'\u001b[39;49m\u001b[43m]\u001b[49m\u001b[38;5;241m.\u001b[39mstr\u001b[38;5;241m.\u001b[39mlen()\n",
      "File \u001b[1;32m~\\AppData\\Local\\Programs\\Python\\Python312\\Lib\\site-packages\\pandas\\core\\series.py:1111\u001b[0m, in \u001b[0;36mSeries.__getitem__\u001b[1;34m(self, key)\u001b[0m\n\u001b[0;32m   1108\u001b[0m     \u001b[38;5;28;01mreturn\u001b[39;00m \u001b[38;5;28mself\u001b[39m\u001b[38;5;241m.\u001b[39m_values[key]\n\u001b[0;32m   1110\u001b[0m \u001b[38;5;28;01melif\u001b[39;00m key_is_scalar:\n\u001b[1;32m-> 1111\u001b[0m     \u001b[38;5;28;01mreturn\u001b[39;00m \u001b[38;5;28;43mself\u001b[39;49m\u001b[38;5;241;43m.\u001b[39;49m\u001b[43m_get_value\u001b[49m\u001b[43m(\u001b[49m\u001b[43mkey\u001b[49m\u001b[43m)\u001b[49m\n\u001b[0;32m   1113\u001b[0m \u001b[38;5;66;03m# Convert generator to list before going through hashable part\u001b[39;00m\n\u001b[0;32m   1114\u001b[0m \u001b[38;5;66;03m# (We will iterate through the generator there to check for slices)\u001b[39;00m\n\u001b[0;32m   1115\u001b[0m \u001b[38;5;28;01mif\u001b[39;00m is_iterator(key):\n",
      "File \u001b[1;32m~\\AppData\\Local\\Programs\\Python\\Python312\\Lib\\site-packages\\pandas\\core\\series.py:1227\u001b[0m, in \u001b[0;36mSeries._get_value\u001b[1;34m(self, label, takeable)\u001b[0m\n\u001b[0;32m   1224\u001b[0m     \u001b[38;5;28;01mreturn\u001b[39;00m \u001b[38;5;28mself\u001b[39m\u001b[38;5;241m.\u001b[39m_values[label]\n\u001b[0;32m   1226\u001b[0m \u001b[38;5;66;03m# Similar to Index.get_value, but we do not fall back to positional\u001b[39;00m\n\u001b[1;32m-> 1227\u001b[0m loc \u001b[38;5;241m=\u001b[39m \u001b[38;5;28;43mself\u001b[39;49m\u001b[38;5;241;43m.\u001b[39;49m\u001b[43mindex\u001b[49m\u001b[38;5;241;43m.\u001b[39;49m\u001b[43mget_loc\u001b[49m\u001b[43m(\u001b[49m\u001b[43mlabel\u001b[49m\u001b[43m)\u001b[49m\n\u001b[0;32m   1229\u001b[0m \u001b[38;5;28;01mif\u001b[39;00m is_integer(loc):\n\u001b[0;32m   1230\u001b[0m     \u001b[38;5;28;01mreturn\u001b[39;00m \u001b[38;5;28mself\u001b[39m\u001b[38;5;241m.\u001b[39m_values[loc]\n",
      "File \u001b[1;32m~\\AppData\\Local\\Programs\\Python\\Python312\\Lib\\site-packages\\pandas\\core\\indexes\\range.py:417\u001b[0m, in \u001b[0;36mRangeIndex.get_loc\u001b[1;34m(self, key)\u001b[0m\n\u001b[0;32m    415\u001b[0m         \u001b[38;5;28;01mraise\u001b[39;00m \u001b[38;5;167;01mKeyError\u001b[39;00m(key) \u001b[38;5;28;01mfrom\u001b[39;00m \u001b[38;5;21;01merr\u001b[39;00m\n\u001b[0;32m    416\u001b[0m \u001b[38;5;28;01mif\u001b[39;00m \u001b[38;5;28misinstance\u001b[39m(key, Hashable):\n\u001b[1;32m--> 417\u001b[0m     \u001b[38;5;28;01mraise\u001b[39;00m \u001b[38;5;167;01mKeyError\u001b[39;00m(key)\n\u001b[0;32m    418\u001b[0m \u001b[38;5;28mself\u001b[39m\u001b[38;5;241m.\u001b[39m_check_indexing_error(key)\n\u001b[0;32m    419\u001b[0m \u001b[38;5;28;01mraise\u001b[39;00m \u001b[38;5;167;01mKeyError\u001b[39;00m(key)\n",
      "\u001b[1;31mKeyError\u001b[0m: 'name'"
     ]
    }
   ],
   "source": []
  },
  {
   "cell_type": "code",
   "execution_count": 43,
   "id": "b506e666-5e06-4cc0-bf57-9024b8b1916a",
   "metadata": {},
   "outputs": [
    {
     "ename": "KeyError",
     "evalue": "'name'",
     "output_type": "error",
     "traceback": [
      "\u001b[1;31m---------------------------------------------------------------------------\u001b[0m",
      "\u001b[1;31mKeyError\u001b[0m                                  Traceback (most recent call last)",
      "Cell \u001b[1;32mIn[43], line 1\u001b[0m\n\u001b[1;32m----> 1\u001b[0m \u001b[43mdata\u001b[49m\u001b[43m[\u001b[49m\u001b[38;5;124;43m'\u001b[39;49m\u001b[38;5;124;43mname\u001b[39;49m\u001b[38;5;124;43m'\u001b[39;49m\u001b[43m]\u001b[49m\u001b[38;5;241m.\u001b[39mstr\u001b[38;5;241m.\u001b[39mlen()\n",
      "File \u001b[1;32m~\\AppData\\Local\\Programs\\Python\\Python312\\Lib\\site-packages\\pandas\\core\\series.py:1111\u001b[0m, in \u001b[0;36mSeries.__getitem__\u001b[1;34m(self, key)\u001b[0m\n\u001b[0;32m   1108\u001b[0m     \u001b[38;5;28;01mreturn\u001b[39;00m \u001b[38;5;28mself\u001b[39m\u001b[38;5;241m.\u001b[39m_values[key]\n\u001b[0;32m   1110\u001b[0m \u001b[38;5;28;01melif\u001b[39;00m key_is_scalar:\n\u001b[1;32m-> 1111\u001b[0m     \u001b[38;5;28;01mreturn\u001b[39;00m \u001b[38;5;28;43mself\u001b[39;49m\u001b[38;5;241;43m.\u001b[39;49m\u001b[43m_get_value\u001b[49m\u001b[43m(\u001b[49m\u001b[43mkey\u001b[49m\u001b[43m)\u001b[49m\n\u001b[0;32m   1113\u001b[0m \u001b[38;5;66;03m# Convert generator to list before going through hashable part\u001b[39;00m\n\u001b[0;32m   1114\u001b[0m \u001b[38;5;66;03m# (We will iterate through the generator there to check for slices)\u001b[39;00m\n\u001b[0;32m   1115\u001b[0m \u001b[38;5;28;01mif\u001b[39;00m is_iterator(key):\n",
      "File \u001b[1;32m~\\AppData\\Local\\Programs\\Python\\Python312\\Lib\\site-packages\\pandas\\core\\series.py:1227\u001b[0m, in \u001b[0;36mSeries._get_value\u001b[1;34m(self, label, takeable)\u001b[0m\n\u001b[0;32m   1224\u001b[0m     \u001b[38;5;28;01mreturn\u001b[39;00m \u001b[38;5;28mself\u001b[39m\u001b[38;5;241m.\u001b[39m_values[label]\n\u001b[0;32m   1226\u001b[0m \u001b[38;5;66;03m# Similar to Index.get_value, but we do not fall back to positional\u001b[39;00m\n\u001b[1;32m-> 1227\u001b[0m loc \u001b[38;5;241m=\u001b[39m \u001b[38;5;28;43mself\u001b[39;49m\u001b[38;5;241;43m.\u001b[39;49m\u001b[43mindex\u001b[49m\u001b[38;5;241;43m.\u001b[39;49m\u001b[43mget_loc\u001b[49m\u001b[43m(\u001b[49m\u001b[43mlabel\u001b[49m\u001b[43m)\u001b[49m\n\u001b[0;32m   1229\u001b[0m \u001b[38;5;28;01mif\u001b[39;00m is_integer(loc):\n\u001b[0;32m   1230\u001b[0m     \u001b[38;5;28;01mreturn\u001b[39;00m \u001b[38;5;28mself\u001b[39m\u001b[38;5;241m.\u001b[39m_values[loc]\n",
      "File \u001b[1;32m~\\AppData\\Local\\Programs\\Python\\Python312\\Lib\\site-packages\\pandas\\core\\indexes\\range.py:417\u001b[0m, in \u001b[0;36mRangeIndex.get_loc\u001b[1;34m(self, key)\u001b[0m\n\u001b[0;32m    415\u001b[0m         \u001b[38;5;28;01mraise\u001b[39;00m \u001b[38;5;167;01mKeyError\u001b[39;00m(key) \u001b[38;5;28;01mfrom\u001b[39;00m \u001b[38;5;21;01merr\u001b[39;00m\n\u001b[0;32m    416\u001b[0m \u001b[38;5;28;01mif\u001b[39;00m \u001b[38;5;28misinstance\u001b[39m(key, Hashable):\n\u001b[1;32m--> 417\u001b[0m     \u001b[38;5;28;01mraise\u001b[39;00m \u001b[38;5;167;01mKeyError\u001b[39;00m(key)\n\u001b[0;32m    418\u001b[0m \u001b[38;5;28mself\u001b[39m\u001b[38;5;241m.\u001b[39m_check_indexing_error(key)\n\u001b[0;32m    419\u001b[0m \u001b[38;5;28;01mraise\u001b[39;00m \u001b[38;5;167;01mKeyError\u001b[39;00m(key)\n",
      "\u001b[1;31mKeyError\u001b[0m: 'name'"
     ]
    }
   ],
   "source": []
  },
  {
   "cell_type": "code",
   "execution_count": 23,
   "id": "e518d02d-9f43-42f6-a55b-6771dde5bded",
   "metadata": {},
   "outputs": [
    {
     "data": {
      "text/plain": [
       "0    1. Bat.\n",
       "1    2. Dog!\n",
       "2    3. fox?\n",
       "3        NaN\n",
       "dtype: object"
      ]
     },
     "execution_count": 23,
     "metadata": {},
     "output_type": "execute_result"
    }
   ],
   "source": [
    "import numpy as np\n",
    "import pandas as pd\n",
    "s = pd.Series(['1. Bat.  ', '2. Dog!\\n', '3. fox?\\t', np.nan])\n",
    "s.str.strip()"
   ]
  },
  {
   "cell_type": "code",
   "execution_count": 24,
   "id": "156914fc-add1-4ba4-8b0b-6b408ea0e54f",
   "metadata": {},
   "outputs": [
    {
     "data": {
      "text/plain": [
       "0                         [this, is, my, new, pen]\n",
       "1    [https://www.w3resource.com/pandas/index.php]\n",
       "2                                              NaN\n",
       "dtype: object"
      ]
     },
     "execution_count": 24,
     "metadata": {},
     "output_type": "execute_result"
    }
   ],
   "source": [
    "import numpy as np\n",
    "import pandas as pd\n",
    "s = pd.Series([\"this is my new pen\",\n",
    "               \"https://www.w3resource.com/pandas/index.php\",\n",
    "               np.nan])\n",
    "s.str.split()\t"
   ]
  },
  {
   "cell_type": "code",
   "execution_count": 25,
   "id": "ef07c2c7-5e5d-490c-b844-38c9bb944e09",
   "metadata": {},
   "outputs": [
    {
     "name": "stdout",
     "output_type": "stream",
     "text": [
      "   Courses    Fee Duration Discount\n",
      "0    False  22000   30days     1000\n",
      "1    False  25000   50days     2300\n",
      "2    False  24000   40days     2500\n",
      "3    False  26000   60days     1400\n"
     ]
    }
   ],
   "source": [
    "df['Courses']=df['Courses'].str.startswith('had')\n",
    "print(df)"
   ]
  },
  {
   "cell_type": "code",
   "execution_count": 34,
   "id": "69e09841-6a5e-4361-bbd0-9d483493d5dd",
   "metadata": {},
   "outputs": [
    {
     "data": {
      "text/plain": [
       "0                         [this, is, my, new, pen]\n",
       "1    [https://www.w3resource.com/pandas/index.php]\n",
       "2                                              NaN\n",
       "dtype: object"
      ]
     },
     "execution_count": 34,
     "metadata": {},
     "output_type": "execute_result"
    }
   ],
   "source": [
    "import numpy as np\n",
    "import pandas as pd\n",
    "s = pd.Series([\"this is my new pen\",\n",
    "               \"https://www.w3resource.com/pandas/index.php\",\n",
    "               np.nan])\n",
    "s.str.split()"
   ]
  },
  {
   "cell_type": "code",
   "execution_count": 35,
   "id": "6cf4b66c-0229-4019-9b03-d903440367bd",
   "metadata": {},
   "outputs": [
    {
     "data": {
      "text/plain": [
       "0    False\n",
       "1    False\n",
       "2      NaN\n",
       "dtype: object"
      ]
     },
     "execution_count": 35,
     "metadata": {},
     "output_type": "execute_result"
    }
   ],
   "source": [
    "s.str.startswith('o')"
   ]
  },
  {
   "cell_type": "code",
   "execution_count": 36,
   "id": "5672713d-d088-4be0-aa12-745a5f627d8e",
   "metadata": {},
   "outputs": [
    {
     "data": {
      "text/plain": [
       "0                             this is my new pen\n",
       "1    https://www.w3resource.com/pandas/index.php\n",
       "2                                            NaN\n",
       "dtype: object"
      ]
     },
     "execution_count": 36,
     "metadata": {},
     "output_type": "execute_result"
    }
   ],
   "source": [
    "s.str.replace('one','two')"
   ]
  },
  {
   "cell_type": "code",
   "execution_count": 37,
   "id": "5360a0da-6ef0-4bc9-98fd-f04a426ac705",
   "metadata": {},
   "outputs": [
    {
     "data": {
      "text/plain": [
       "0    False\n",
       "1    False\n",
       "2      NaN\n",
       "dtype: object"
      ]
     },
     "execution_count": 37,
     "metadata": {},
     "output_type": "execute_result"
    }
   ],
   "source": [
    "s.str.endswith('r')"
   ]
  },
  {
   "cell_type": "code",
   "execution_count": 38,
   "id": "ec115391-5d75-4a0c-a092-dcd4b09fcdd0",
   "metadata": {},
   "outputs": [
    {
     "data": {
      "text/plain": [
       "0    False\n",
       "1     True\n",
       "2    False\n",
       "3    False\n",
       "dtype: bool"
      ]
     },
     "execution_count": 38,
     "metadata": {},
     "output_type": "execute_result"
    }
   ],
   "source": [
    "#str.contains()\n",
    "import numpy as np\n",
    "import pandas as pd\n",
    "s=pd.Series(['one','two','three','four'])\n",
    "result = s.str.contains(pat='two')\n",
    "result"
   ]
  },
  {
   "cell_type": "code",
   "execution_count": 39,
   "id": "c0ab6ebb-6275-40c1-963d-3406888f3415",
   "metadata": {},
   "outputs": [
    {
     "data": {
      "text/plain": [
       "0    o\n",
       "1    t\n",
       "2    t\n",
       "3    f\n",
       "dtype: object"
      ]
     },
     "execution_count": 39,
     "metadata": {},
     "output_type": "execute_result"
    }
   ],
   "source": [
    "#str.get()\n",
    "data=s.str.get(0)\n",
    "data"
   ]
  },
  {
   "cell_type": "code",
   "execution_count": 40,
   "id": "cdb7b935-5062-4eee-973f-603bf69ad98b",
   "metadata": {},
   "outputs": [
    {
     "data": {
      "text/plain": [
       "0        one,one\n",
       "1        two,two\n",
       "2    three,three\n",
       "3      four,four\n",
       "dtype: object"
      ]
     },
     "execution_count": 40,
     "metadata": {},
     "output_type": "execute_result"
    }
   ],
   "source": [
    "#str.cat()\n",
    "new=s.copy()\n",
    "new=s.str.cat(new,sep=\",\")\n",
    "new"
   ]
  },
  {
   "cell_type": "code",
   "execution_count": 41,
   "id": "8ab09116-d3e0-4816-9269-bf1a5f45774c",
   "metadata": {},
   "outputs": [
    {
     "data": {
      "text/plain": [
       "0        one,o\n",
       "1        two,t\n",
       "2    three,thr\n",
       "3      four,fo\n",
       "dtype: object"
      ]
     },
     "execution_count": 41,
     "metadata": {},
     "output_type": "execute_result"
    }
   ],
   "source": [
    "#str.slice()\n",
    "data=new.str.slice(0,-2,1)\n",
    "data"
   ]
  },
  {
   "cell_type": "code",
   "execution_count": 42,
   "id": "69ef89f9-81b9-4d11-9d9f-c782f121c86b",
   "metadata": {},
   "outputs": [
    {
     "data": {
      "text/plain": [
       "0    0\n",
       "1    2\n",
       "2   -1\n",
       "3    1\n",
       "dtype: int64"
      ]
     },
     "execution_count": 42,
     "metadata": {},
     "output_type": "execute_result"
    }
   ],
   "source": [
    "d=s.str.find('o')\n",
    "d"
   ]
  },
  {
   "cell_type": "code",
   "execution_count": null,
   "id": "ede7983e-6a80-4849-8206-a1ee012f4de9",
   "metadata": {},
   "outputs": [],
   "source": []
  }
 ],
 "metadata": {
  "kernelspec": {
   "display_name": "Python 3 (ipykernel)",
   "language": "python",
   "name": "python3"
  },
  "language_info": {
   "codemirror_mode": {
    "name": "ipython",
    "version": 3
   },
   "file_extension": ".py",
   "mimetype": "text/x-python",
   "name": "python",
   "nbconvert_exporter": "python",
   "pygments_lexer": "ipython3",
   "version": "3.12.1"
  }
 },
 "nbformat": 4,
 "nbformat_minor": 5
}
