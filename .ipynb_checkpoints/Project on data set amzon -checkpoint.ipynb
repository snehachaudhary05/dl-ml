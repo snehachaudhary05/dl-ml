{
 "cells": [
  {
   "cell_type": "markdown",
   "id": "3873dcba",
   "metadata": {},
   "source": [
    "# dataset amazon epurchases\n"
   ]
  },
  {
   "cell_type": "code",
   "execution_count": 1,
   "id": "270ef9d5",
   "metadata": {},
   "outputs": [
    {
     "ename": "SyntaxError",
     "evalue": "invalid syntax (1934293032.py, line 1)",
     "output_type": "error",
     "traceback": [
      "\u001b[1;36m  Cell \u001b[1;32mIn[1], line 1\u001b[1;36m\u001b[0m\n\u001b[1;33m    https://www.kaggle.com/datasets/utkarsharya/ecommerce-purchases\u001b[0m\n\u001b[1;37m          ^\u001b[0m\n\u001b[1;31mSyntaxError\u001b[0m\u001b[1;31m:\u001b[0m invalid syntax\n"
     ]
    }
   ],
   "source": [
    "https://www.kaggle.com/datasets/utkarsharya/ecommerce-purchases"
   ]
  },
  {
   "cell_type": "code",
   "execution_count": null,
   "id": "eb43ede3",
   "metadata": {},
   "outputs": [],
   "source": [
    "import pandas as pd\n",
    "\n",
    "data=pd.read_csv(\"Ecommerce Purchases\")\n",
    "data"
   ]
  },
  {
   "cell_type": "markdown",
   "id": "63177d9e",
   "metadata": {},
   "source": [
    "# Display Top 10 rows"
   ]
  },
  {
   "cell_type": "code",
   "execution_count": null,
   "id": "d1db63d2",
   "metadata": {},
   "outputs": [],
   "source": []
  },
  {
   "cell_type": "markdown",
   "id": "a89a2562",
   "metadata": {},
   "source": [
    "# Display Last 10 rows"
   ]
  },
  {
   "cell_type": "code",
   "execution_count": null,
   "id": "ade661d7",
   "metadata": {},
   "outputs": [],
   "source": []
  },
  {
   "cell_type": "markdown",
   "id": "007792c2",
   "metadata": {},
   "source": [
    "# Check datatype  of Each coloum\n"
   ]
  },
  {
   "cell_type": "code",
   "execution_count": null,
   "id": "757555a0",
   "metadata": {},
   "outputs": [],
   "source": []
  },
  {
   "cell_type": "markdown",
   "id": "4369acd6",
   "metadata": {},
   "source": [
    "# check null values in the DataSet"
   ]
  },
  {
   "cell_type": "code",
   "execution_count": null,
   "id": "be74905d",
   "metadata": {},
   "outputs": [],
   "source": []
  },
  {
   "cell_type": "markdown",
   "id": "93d77339",
   "metadata": {},
   "source": [
    "# how many rows and coloumns in our dataset"
   ]
  },
  {
   "cell_type": "code",
   "execution_count": null,
   "id": "8ec72b19",
   "metadata": {},
   "outputs": [],
   "source": []
  },
  {
   "cell_type": "markdown",
   "id": "2c7b32bb",
   "metadata": {},
   "source": [
    "# Highest and lowest purchase price in dataset"
   ]
  },
  {
   "cell_type": "code",
   "execution_count": null,
   "id": "71e49fe0",
   "metadata": {},
   "outputs": [],
   "source": []
  },
  {
   "cell_type": "markdown",
   "id": "2dfcb5cf",
   "metadata": {},
   "source": [
    "# Average purchase price"
   ]
  },
  {
   "cell_type": "code",
   "execution_count": null,
   "id": "0a7f75c0",
   "metadata": {},
   "outputs": [],
   "source": []
  },
  {
   "cell_type": "markdown",
   "id": "5510deb9",
   "metadata": {},
   "source": [
    "#         # how many people have French 'fr' as their Language"
   ]
  },
  {
   "cell_type": "code",
   "execution_count": null,
   "id": "23a73ad3",
   "metadata": {},
   "outputs": [],
   "source": []
  },
  {
   "cell_type": "markdown",
   "id": "a2cfdb7e",
   "metadata": {},
   "source": [
    "# job title contains engineer"
   ]
  },
  {
   "cell_type": "code",
   "execution_count": null,
   "id": "5396f1ea",
   "metadata": {},
   "outputs": [],
   "source": []
  },
  {
   "cell_type": "markdown",
   "id": "e1b18606",
   "metadata": {},
   "source": [
    "# find email of the person with the following IP address: 132.207.160.22"
   ]
  },
  {
   "cell_type": "code",
   "execution_count": null,
   "id": "8ee45478",
   "metadata": {},
   "outputs": [],
   "source": []
  },
  {
   "cell_type": "markdown",
   "id": "3ffde3be",
   "metadata": {},
   "source": [
    "# how many people have Mastercard as their Credit Card Provider and Made A purchase above 50?\n"
   ]
  },
  {
   "cell_type": "code",
   "execution_count": null,
   "id": "97b2fc52",
   "metadata": {},
   "outputs": [],
   "source": []
  },
  {
   "cell_type": "markdown",
   "id": "744e7297",
   "metadata": {},
   "source": [
    "# Find Email of the person with the following Credit Card number:4105595335494659"
   ]
  },
  {
   "cell_type": "code",
   "execution_count": null,
   "id": "caf267da",
   "metadata": {},
   "outputs": [],
   "source": []
  },
  {
   "cell_type": "markdown",
   "id": "d24e882b",
   "metadata": {},
   "source": [
    "# how Many people Purchase During The Am and How Many People Purchase During Pm?"
   ]
  },
  {
   "cell_type": "code",
   "execution_count": null,
   "id": "75eef4ba",
   "metadata": {},
   "outputs": [],
   "source": []
  },
  {
   "cell_type": "markdown",
   "id": "a1addd69",
   "metadata": {},
   "source": [
    "# How Many People Have A credit Card That Expries In 2020"
   ]
  },
  {
   "cell_type": "code",
   "execution_count": null,
   "id": "9295c51d",
   "metadata": {},
   "outputs": [],
   "source": []
  },
  {
   "cell_type": "markdown",
   "id": "bbec8526",
   "metadata": {},
   "source": [
    "# Top 5 Most Popular EMail providers(eg Gmail.com, Yahoo.com,etc.)"
   ]
  },
  {
   "cell_type": "code",
   "execution_count": null,
   "id": "4309fc55",
   "metadata": {},
   "outputs": [],
   "source": []
  },
  {
   "cell_type": "code",
   "execution_count": null,
   "id": "5fb903a5",
   "metadata": {},
   "outputs": [],
   "source": []
  },
  {
   "cell_type": "code",
   "execution_count": null,
   "id": "7789274c",
   "metadata": {},
   "outputs": [],
   "source": []
  }
 ],
 "metadata": {
  "kernelspec": {
   "display_name": "Python 3 (ipykernel)",
   "language": "python",
   "name": "python3"
  },
  "language_info": {
   "codemirror_mode": {
    "name": "ipython",
    "version": 3
   },
   "file_extension": ".py",
   "mimetype": "text/x-python",
   "name": "python",
   "nbconvert_exporter": "python",
   "pygments_lexer": "ipython3",
   "version": "3.12.1"
  },
  "varInspector": {
   "cols": {
    "lenName": 16,
    "lenType": 16,
    "lenVar": 40
   },
   "kernels_config": {
    "python": {
     "delete_cmd_postfix": "",
     "delete_cmd_prefix": "del ",
     "library": "var_list.py",
     "varRefreshCmd": "print(var_dic_list())"
    },
    "r": {
     "delete_cmd_postfix": ") ",
     "delete_cmd_prefix": "rm(",
     "library": "var_list.r",
     "varRefreshCmd": "cat(var_dic_list()) "
    }
   },
   "types_to_exclude": [
    "module",
    "function",
    "builtin_function_or_method",
    "instance",
    "_Feature"
   ],
   "window_display": false
  }
 },
 "nbformat": 4,
 "nbformat_minor": 5
}
